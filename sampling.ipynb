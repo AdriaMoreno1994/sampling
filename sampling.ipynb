{
 "cells": [
  {
   "cell_type": "markdown",
   "metadata": {},
   "source": [
    "# TASCA MÈTODES DE MOSTREIG\n",
    "## Nivell 1\n",
    "### Excercici 1\n",
    "#### he triat  un data set de eSports  en aquesta url :\n",
    "https://www.kaggle.com/jackdaoud/esports-earnings-for-players-teams-by-game?select=highest_earning_players.csv\n",
    "\n",
    "la variable que vui evaluar es el totalUSDPrize"
   ]
  },
  {
   "cell_type": "code",
   "execution_count": 1,
   "metadata": {},
   "outputs": [],
   "source": [
    "import pandas as pd\n",
    "import numpy as np\n",
    "import matlab as mat\n",
    "import random "
   ]
  },
  {
   "cell_type": "code",
   "execution_count": 2,
   "metadata": {},
   "outputs": [],
   "source": [
    "df  = pd.read_csv(r'highest_earning_teams.csv')\n"
   ]
  },
  {
   "cell_type": "code",
   "execution_count": 3,
   "metadata": {},
   "outputs": [
    {
     "data": {
      "text/html": [
       "<div>\n",
       "<style scoped>\n",
       "    .dataframe tbody tr th:only-of-type {\n",
       "        vertical-align: middle;\n",
       "    }\n",
       "\n",
       "    .dataframe tbody tr th {\n",
       "        vertical-align: top;\n",
       "    }\n",
       "\n",
       "    .dataframe thead th {\n",
       "        text-align: right;\n",
       "    }\n",
       "</style>\n",
       "<table border=\"1\" class=\"dataframe\">\n",
       "  <thead>\n",
       "    <tr style=\"text-align: right;\">\n",
       "      <th></th>\n",
       "      <th>TeamId</th>\n",
       "      <th>TotalUSDPrize</th>\n",
       "      <th>TotalTournaments</th>\n",
       "    </tr>\n",
       "  </thead>\n",
       "  <tbody>\n",
       "    <tr>\n",
       "      <th>count</th>\n",
       "      <td>928.000000</td>\n",
       "      <td>9.280000e+02</td>\n",
       "      <td>928.000000</td>\n",
       "    </tr>\n",
       "    <tr>\n",
       "      <th>mean</th>\n",
       "      <td>3836.927802</td>\n",
       "      <td>5.399183e+05</td>\n",
       "      <td>31.696121</td>\n",
       "    </tr>\n",
       "    <tr>\n",
       "      <th>std</th>\n",
       "      <td>8438.383941</td>\n",
       "      <td>1.902399e+06</td>\n",
       "      <td>61.075848</td>\n",
       "    </tr>\n",
       "    <tr>\n",
       "      <th>min</th>\n",
       "      <td>101.000000</td>\n",
       "      <td>1.750000e+02</td>\n",
       "      <td>1.000000</td>\n",
       "    </tr>\n",
       "    <tr>\n",
       "      <th>25%</th>\n",
       "      <td>227.000000</td>\n",
       "      <td>3.915000e+04</td>\n",
       "      <td>4.000000</td>\n",
       "    </tr>\n",
       "    <tr>\n",
       "      <th>50%</th>\n",
       "      <td>529.000000</td>\n",
       "      <td>1.165306e+05</td>\n",
       "      <td>11.000000</td>\n",
       "    </tr>\n",
       "    <tr>\n",
       "      <th>75%</th>\n",
       "      <td>789.000000</td>\n",
       "      <td>3.231491e+05</td>\n",
       "      <td>33.000000</td>\n",
       "    </tr>\n",
       "    <tr>\n",
       "      <th>max</th>\n",
       "      <td>24997.000000</td>\n",
       "      <td>3.381064e+07</td>\n",
       "      <td>808.000000</td>\n",
       "    </tr>\n",
       "  </tbody>\n",
       "</table>\n",
       "</div>"
      ],
      "text/plain": [
       "             TeamId  TotalUSDPrize  TotalTournaments\n",
       "count    928.000000   9.280000e+02        928.000000\n",
       "mean    3836.927802   5.399183e+05         31.696121\n",
       "std     8438.383941   1.902399e+06         61.075848\n",
       "min      101.000000   1.750000e+02          1.000000\n",
       "25%      227.000000   3.915000e+04          4.000000\n",
       "50%      529.000000   1.165306e+05         11.000000\n",
       "75%      789.000000   3.231491e+05         33.000000\n",
       "max    24997.000000   3.381064e+07        808.000000"
      ]
     },
     "execution_count": 3,
     "metadata": {},
     "output_type": "execute_result"
    }
   ],
   "source": [
    "df.describe()"
   ]
  },
  {
   "cell_type": "markdown",
   "metadata": {},
   "source": [
    "#### Mostra simple"
   ]
  },
  {
   "cell_type": "code",
   "execution_count": 4,
   "metadata": {},
   "outputs": [
    {
     "data": {
      "text/html": [
       "<div>\n",
       "<style scoped>\n",
       "    .dataframe tbody tr th:only-of-type {\n",
       "        vertical-align: middle;\n",
       "    }\n",
       "\n",
       "    .dataframe tbody tr th {\n",
       "        vertical-align: top;\n",
       "    }\n",
       "\n",
       "    .dataframe thead th {\n",
       "        text-align: right;\n",
       "    }\n",
       "</style>\n",
       "<table border=\"1\" class=\"dataframe\">\n",
       "  <thead>\n",
       "    <tr style=\"text-align: right;\">\n",
       "      <th></th>\n",
       "      <th>TeamId</th>\n",
       "      <th>TeamName</th>\n",
       "      <th>TotalUSDPrize</th>\n",
       "      <th>TotalTournaments</th>\n",
       "      <th>Game</th>\n",
       "      <th>Genre</th>\n",
       "    </tr>\n",
       "  </thead>\n",
       "  <tbody>\n",
       "    <tr>\n",
       "      <th>517</th>\n",
       "      <td>300</td>\n",
       "      <td>CDEC Gaming</td>\n",
       "      <td>3704903.32</td>\n",
       "      <td>52</td>\n",
       "      <td>Dota 2</td>\n",
       "      <td>Multiplayer Online Battle Arena</td>\n",
       "    </tr>\n",
       "    <tr>\n",
       "      <th>324</th>\n",
       "      <td>719</td>\n",
       "      <td>GamersOrigin</td>\n",
       "      <td>238280.44</td>\n",
       "      <td>13</td>\n",
       "      <td>Fortnite</td>\n",
       "      <td>Battle Royale</td>\n",
       "    </tr>\n",
       "    <tr>\n",
       "      <th>576</th>\n",
       "      <td>582</td>\n",
       "      <td>Ukranian National Team</td>\n",
       "      <td>75992.12</td>\n",
       "      <td>4</td>\n",
       "      <td>Dota 2</td>\n",
       "      <td>Multiplayer Online Battle Arena</td>\n",
       "    </tr>\n",
       "    <tr>\n",
       "      <th>463</th>\n",
       "      <td>814</td>\n",
       "      <td>Gen.G</td>\n",
       "      <td>165600.00</td>\n",
       "      <td>11</td>\n",
       "      <td>Counter-Strike: Global Offensive</td>\n",
       "      <td>First-Person Shooter</td>\n",
       "    </tr>\n",
       "    <tr>\n",
       "      <th>267</th>\n",
       "      <td>505</td>\n",
       "      <td>J Team</td>\n",
       "      <td>197654.10</td>\n",
       "      <td>15</td>\n",
       "      <td>League of Legends</td>\n",
       "      <td>Multiplayer Online Battle Arena</td>\n",
       "    </tr>\n",
       "    <tr>\n",
       "      <th>...</th>\n",
       "      <td>...</td>\n",
       "      <td>...</td>\n",
       "      <td>...</td>\n",
       "      <td>...</td>\n",
       "      <td>...</td>\n",
       "      <td>...</td>\n",
       "    </tr>\n",
       "    <tr>\n",
       "      <th>826</th>\n",
       "      <td>309</td>\n",
       "      <td>Mindfreak</td>\n",
       "      <td>54000.00</td>\n",
       "      <td>6</td>\n",
       "      <td>Hearthstone</td>\n",
       "      <td>Collectible Card Game</td>\n",
       "    </tr>\n",
       "    <tr>\n",
       "      <th>190</th>\n",
       "      <td>233</td>\n",
       "      <td>TCM Gaming</td>\n",
       "      <td>41244.11</td>\n",
       "      <td>41</td>\n",
       "      <td>Starcraft II</td>\n",
       "      <td>Strategy</td>\n",
       "    </tr>\n",
       "    <tr>\n",
       "      <th>41</th>\n",
       "      <td>759</td>\n",
       "      <td>Dallas Fuel</td>\n",
       "      <td>80000.00</td>\n",
       "      <td>3</td>\n",
       "      <td>Overwatch</td>\n",
       "      <td>First-Person Shooter</td>\n",
       "    </tr>\n",
       "    <tr>\n",
       "      <th>109</th>\n",
       "      <td>103</td>\n",
       "      <td>Millenium</td>\n",
       "      <td>673626.51</td>\n",
       "      <td>344</td>\n",
       "      <td>Starcraft II</td>\n",
       "      <td>Strategy</td>\n",
       "    </tr>\n",
       "    <tr>\n",
       "      <th>223</th>\n",
       "      <td>795</td>\n",
       "      <td>DragonX</td>\n",
       "      <td>694398.74</td>\n",
       "      <td>14</td>\n",
       "      <td>League of Legends</td>\n",
       "      <td>Multiplayer Online Battle Arena</td>\n",
       "    </tr>\n",
       "  </tbody>\n",
       "</table>\n",
       "<p>500 rows × 6 columns</p>\n",
       "</div>"
      ],
      "text/plain": [
       "     TeamId                TeamName  TotalUSDPrize  TotalTournaments  \\\n",
       "517     300             CDEC Gaming     3704903.32                52   \n",
       "324     719            GamersOrigin      238280.44                13   \n",
       "576     582  Ukranian National Team       75992.12                 4   \n",
       "463     814                   Gen.G      165600.00                11   \n",
       "267     505                  J Team      197654.10                15   \n",
       "..      ...                     ...            ...               ...   \n",
       "826     309               Mindfreak       54000.00                 6   \n",
       "190     233              TCM Gaming       41244.11                41   \n",
       "41      759             Dallas Fuel       80000.00                 3   \n",
       "109     103               Millenium      673626.51               344   \n",
       "223     795                 DragonX      694398.74                14   \n",
       "\n",
       "                                 Game                            Genre  \n",
       "517                            Dota 2  Multiplayer Online Battle Arena  \n",
       "324                          Fortnite                    Battle Royale  \n",
       "576                            Dota 2  Multiplayer Online Battle Arena  \n",
       "463  Counter-Strike: Global Offensive             First-Person Shooter  \n",
       "267                 League of Legends  Multiplayer Online Battle Arena  \n",
       "..                                ...                              ...  \n",
       "826                       Hearthstone            Collectible Card Game  \n",
       "190                      Starcraft II                         Strategy  \n",
       "41                          Overwatch             First-Person Shooter  \n",
       "109                      Starcraft II                         Strategy  \n",
       "223                 League of Legends  Multiplayer Online Battle Arena  \n",
       "\n",
       "[500 rows x 6 columns]"
      ]
     },
     "execution_count": 4,
     "metadata": {},
     "output_type": "execute_result"
    }
   ],
   "source": [
    "simple_teams_df = df.sample(n = 500)\n",
    "simple_teams_df"
   ]
  },
  {
   "cell_type": "code",
   "execution_count": 5,
   "metadata": {},
   "outputs": [
    {
     "data": {
      "text/html": [
       "<div>\n",
       "<style scoped>\n",
       "    .dataframe tbody tr th:only-of-type {\n",
       "        vertical-align: middle;\n",
       "    }\n",
       "\n",
       "    .dataframe tbody tr th {\n",
       "        vertical-align: top;\n",
       "    }\n",
       "\n",
       "    .dataframe thead th {\n",
       "        text-align: right;\n",
       "    }\n",
       "</style>\n",
       "<table border=\"1\" class=\"dataframe\">\n",
       "  <thead>\n",
       "    <tr style=\"text-align: right;\">\n",
       "      <th></th>\n",
       "      <th>TeamId</th>\n",
       "      <th>TotalUSDPrize</th>\n",
       "      <th>TotalTournaments</th>\n",
       "    </tr>\n",
       "  </thead>\n",
       "  <tbody>\n",
       "    <tr>\n",
       "      <th>count</th>\n",
       "      <td>500.000000</td>\n",
       "      <td>5.000000e+02</td>\n",
       "      <td>500.000000</td>\n",
       "    </tr>\n",
       "    <tr>\n",
       "      <th>mean</th>\n",
       "      <td>3902.998000</td>\n",
       "      <td>5.195915e+05</td>\n",
       "      <td>32.970000</td>\n",
       "    </tr>\n",
       "    <tr>\n",
       "      <th>std</th>\n",
       "      <td>8517.146071</td>\n",
       "      <td>1.602525e+06</td>\n",
       "      <td>66.612127</td>\n",
       "    </tr>\n",
       "    <tr>\n",
       "      <th>min</th>\n",
       "      <td>101.000000</td>\n",
       "      <td>3.060000e+02</td>\n",
       "      <td>1.000000</td>\n",
       "    </tr>\n",
       "    <tr>\n",
       "      <th>25%</th>\n",
       "      <td>216.000000</td>\n",
       "      <td>3.905348e+04</td>\n",
       "      <td>4.000000</td>\n",
       "    </tr>\n",
       "    <tr>\n",
       "      <th>50%</th>\n",
       "      <td>529.000000</td>\n",
       "      <td>1.144316e+05</td>\n",
       "      <td>10.500000</td>\n",
       "    </tr>\n",
       "    <tr>\n",
       "      <th>75%</th>\n",
       "      <td>787.000000</td>\n",
       "      <td>3.389935e+05</td>\n",
       "      <td>32.000000</td>\n",
       "    </tr>\n",
       "    <tr>\n",
       "      <th>max</th>\n",
       "      <td>24995.000000</td>\n",
       "      <td>1.998867e+07</td>\n",
       "      <td>808.000000</td>\n",
       "    </tr>\n",
       "  </tbody>\n",
       "</table>\n",
       "</div>"
      ],
      "text/plain": [
       "             TeamId  TotalUSDPrize  TotalTournaments\n",
       "count    500.000000   5.000000e+02        500.000000\n",
       "mean    3902.998000   5.195915e+05         32.970000\n",
       "std     8517.146071   1.602525e+06         66.612127\n",
       "min      101.000000   3.060000e+02          1.000000\n",
       "25%      216.000000   3.905348e+04          4.000000\n",
       "50%      529.000000   1.144316e+05         10.500000\n",
       "75%      787.000000   3.389935e+05         32.000000\n",
       "max    24995.000000   1.998867e+07        808.000000"
      ]
     },
     "execution_count": 5,
     "metadata": {},
     "output_type": "execute_result"
    }
   ],
   "source": [
    "simple_teams_df.describe()"
   ]
  },
  {
   "cell_type": "markdown",
   "metadata": {},
   "source": [
    "#### Mostra sistematica"
   ]
  },
  {
   "cell_type": "code",
   "execution_count": 6,
   "metadata": {},
   "outputs": [
    {
     "data": {
      "text/html": [
       "<div>\n",
       "<style scoped>\n",
       "    .dataframe tbody tr th:only-of-type {\n",
       "        vertical-align: middle;\n",
       "    }\n",
       "\n",
       "    .dataframe tbody tr th {\n",
       "        vertical-align: top;\n",
       "    }\n",
       "\n",
       "    .dataframe thead th {\n",
       "        text-align: right;\n",
       "    }\n",
       "</style>\n",
       "<table border=\"1\" class=\"dataframe\">\n",
       "  <thead>\n",
       "    <tr style=\"text-align: right;\">\n",
       "      <th></th>\n",
       "      <th>TeamId</th>\n",
       "      <th>TeamName</th>\n",
       "      <th>TotalUSDPrize</th>\n",
       "      <th>TotalTournaments</th>\n",
       "      <th>Game</th>\n",
       "      <th>Genre</th>\n",
       "    </tr>\n",
       "  </thead>\n",
       "  <tbody>\n",
       "    <tr>\n",
       "      <th>5</th>\n",
       "      <td>856</td>\n",
       "      <td>Vancouver Titans</td>\n",
       "      <td>950000.00</td>\n",
       "      <td>4</td>\n",
       "      <td>Overwatch</td>\n",
       "      <td>First-Person Shooter</td>\n",
       "    </tr>\n",
       "    <tr>\n",
       "      <th>14</th>\n",
       "      <td>771</td>\n",
       "      <td>Boston Uprising</td>\n",
       "      <td>288606.00</td>\n",
       "      <td>7</td>\n",
       "      <td>Overwatch</td>\n",
       "      <td>First-Person Shooter</td>\n",
       "    </tr>\n",
       "    <tr>\n",
       "      <th>23</th>\n",
       "      <td>24708</td>\n",
       "      <td>Talon Esports</td>\n",
       "      <td>159952.00</td>\n",
       "      <td>7</td>\n",
       "      <td>Overwatch</td>\n",
       "      <td>First-Person Shooter</td>\n",
       "    </tr>\n",
       "    <tr>\n",
       "      <th>32</th>\n",
       "      <td>468</td>\n",
       "      <td>Afreeca Freecs</td>\n",
       "      <td>105281.62</td>\n",
       "      <td>13</td>\n",
       "      <td>Overwatch</td>\n",
       "      <td>First-Person Shooter</td>\n",
       "    </tr>\n",
       "    <tr>\n",
       "      <th>41</th>\n",
       "      <td>759</td>\n",
       "      <td>Dallas Fuel</td>\n",
       "      <td>80000.00</td>\n",
       "      <td>3</td>\n",
       "      <td>Overwatch</td>\n",
       "      <td>First-Person Shooter</td>\n",
       "    </tr>\n",
       "    <tr>\n",
       "      <th>...</th>\n",
       "      <td>...</td>\n",
       "      <td>...</td>\n",
       "      <td>...</td>\n",
       "      <td>...</td>\n",
       "      <td>...</td>\n",
       "      <td>...</td>\n",
       "    </tr>\n",
       "    <tr>\n",
       "      <th>887</th>\n",
       "      <td>24946</td>\n",
       "      <td>Bazaar Gaming</td>\n",
       "      <td>300325.26</td>\n",
       "      <td>7</td>\n",
       "      <td>Arena of Valor</td>\n",
       "      <td>Multiplayer Online Battle Arena</td>\n",
       "    </tr>\n",
       "    <tr>\n",
       "      <th>896</th>\n",
       "      <td>638</td>\n",
       "      <td>Thai National Team</td>\n",
       "      <td>187000.00</td>\n",
       "      <td>2</td>\n",
       "      <td>Arena of Valor</td>\n",
       "      <td>Multiplayer Online Battle Arena</td>\n",
       "    </tr>\n",
       "    <tr>\n",
       "      <th>905</th>\n",
       "      <td>132</td>\n",
       "      <td>MVP</td>\n",
       "      <td>41363.97</td>\n",
       "      <td>2</td>\n",
       "      <td>Arena of Valor</td>\n",
       "      <td>Multiplayer Online Battle Arena</td>\n",
       "    </tr>\n",
       "    <tr>\n",
       "      <th>914</th>\n",
       "      <td>396</td>\n",
       "      <td>paiN Gaming</td>\n",
       "      <td>15000.00</td>\n",
       "      <td>1</td>\n",
       "      <td>Arena of Valor</td>\n",
       "      <td>Multiplayer Online Battle Arena</td>\n",
       "    </tr>\n",
       "    <tr>\n",
       "      <th>923</th>\n",
       "      <td>24781</td>\n",
       "      <td>Rex Regum Qeon</td>\n",
       "      <td>6286.80</td>\n",
       "      <td>2</td>\n",
       "      <td>Arena of Valor</td>\n",
       "      <td>Multiplayer Online Battle Arena</td>\n",
       "    </tr>\n",
       "  </tbody>\n",
       "</table>\n",
       "<p>103 rows × 6 columns</p>\n",
       "</div>"
      ],
      "text/plain": [
       "     TeamId            TeamName  TotalUSDPrize  TotalTournaments  \\\n",
       "5       856    Vancouver Titans      950000.00                 4   \n",
       "14      771     Boston Uprising      288606.00                 7   \n",
       "23    24708       Talon Esports      159952.00                 7   \n",
       "32      468      Afreeca Freecs      105281.62                13   \n",
       "41      759         Dallas Fuel       80000.00                 3   \n",
       "..      ...                 ...            ...               ...   \n",
       "887   24946       Bazaar Gaming      300325.26                 7   \n",
       "896     638  Thai National Team      187000.00                 2   \n",
       "905     132                 MVP       41363.97                 2   \n",
       "914     396         paiN Gaming       15000.00                 1   \n",
       "923   24781      Rex Regum Qeon        6286.80                 2   \n",
       "\n",
       "               Game                            Genre  \n",
       "5         Overwatch             First-Person Shooter  \n",
       "14        Overwatch             First-Person Shooter  \n",
       "23        Overwatch             First-Person Shooter  \n",
       "32        Overwatch             First-Person Shooter  \n",
       "41        Overwatch             First-Person Shooter  \n",
       "..              ...                              ...  \n",
       "887  Arena of Valor  Multiplayer Online Battle Arena  \n",
       "896  Arena of Valor  Multiplayer Online Battle Arena  \n",
       "905  Arena of Valor  Multiplayer Online Battle Arena  \n",
       "914  Arena of Valor  Multiplayer Online Battle Arena  \n",
       "923  Arena of Valor  Multiplayer Online Battle Arena  \n",
       "\n",
       "[103 rows x 6 columns]"
      ]
     },
     "execution_count": 6,
     "metadata": {},
     "output_type": "execute_result"
    }
   ],
   "source": [
    "random = np.random.randint(1,20)\n",
    "\n",
    "size = df.shape[0]\n",
    "sample_size = 100\n",
    "interval = int(size/sample_size)\n",
    "systematic_teams = df[random :size:interval]\n",
    "systematic_teams"
   ]
  },
  {
   "cell_type": "code",
   "execution_count": 7,
   "metadata": {},
   "outputs": [
    {
     "data": {
      "text/html": [
       "<div>\n",
       "<style scoped>\n",
       "    .dataframe tbody tr th:only-of-type {\n",
       "        vertical-align: middle;\n",
       "    }\n",
       "\n",
       "    .dataframe tbody tr th {\n",
       "        vertical-align: top;\n",
       "    }\n",
       "\n",
       "    .dataframe thead th {\n",
       "        text-align: right;\n",
       "    }\n",
       "</style>\n",
       "<table border=\"1\" class=\"dataframe\">\n",
       "  <thead>\n",
       "    <tr style=\"text-align: right;\">\n",
       "      <th></th>\n",
       "      <th>TeamId</th>\n",
       "      <th>TotalUSDPrize</th>\n",
       "      <th>TotalTournaments</th>\n",
       "    </tr>\n",
       "  </thead>\n",
       "  <tbody>\n",
       "    <tr>\n",
       "      <th>count</th>\n",
       "      <td>103.000000</td>\n",
       "      <td>1.030000e+02</td>\n",
       "      <td>103.000000</td>\n",
       "    </tr>\n",
       "    <tr>\n",
       "      <th>mean</th>\n",
       "      <td>4434.077670</td>\n",
       "      <td>7.703460e+05</td>\n",
       "      <td>30.106796</td>\n",
       "    </tr>\n",
       "    <tr>\n",
       "      <th>std</th>\n",
       "      <td>9096.552696</td>\n",
       "      <td>3.476040e+06</td>\n",
       "      <td>59.857169</td>\n",
       "    </tr>\n",
       "    <tr>\n",
       "      <th>min</th>\n",
       "      <td>102.000000</td>\n",
       "      <td>3.000000e+02</td>\n",
       "      <td>1.000000</td>\n",
       "    </tr>\n",
       "    <tr>\n",
       "      <th>25%</th>\n",
       "      <td>209.000000</td>\n",
       "      <td>3.803776e+04</td>\n",
       "      <td>4.000000</td>\n",
       "    </tr>\n",
       "    <tr>\n",
       "      <th>50%</th>\n",
       "      <td>425.000000</td>\n",
       "      <td>1.103884e+05</td>\n",
       "      <td>10.000000</td>\n",
       "    </tr>\n",
       "    <tr>\n",
       "      <th>75%</th>\n",
       "      <td>780.000000</td>\n",
       "      <td>2.944656e+05</td>\n",
       "      <td>28.000000</td>\n",
       "    </tr>\n",
       "    <tr>\n",
       "      <th>max</th>\n",
       "      <td>24946.000000</td>\n",
       "      <td>3.381064e+07</td>\n",
       "      <td>488.000000</td>\n",
       "    </tr>\n",
       "  </tbody>\n",
       "</table>\n",
       "</div>"
      ],
      "text/plain": [
       "             TeamId  TotalUSDPrize  TotalTournaments\n",
       "count    103.000000   1.030000e+02        103.000000\n",
       "mean    4434.077670   7.703460e+05         30.106796\n",
       "std     9096.552696   3.476040e+06         59.857169\n",
       "min      102.000000   3.000000e+02          1.000000\n",
       "25%      209.000000   3.803776e+04          4.000000\n",
       "50%      425.000000   1.103884e+05         10.000000\n",
       "75%      780.000000   2.944656e+05         28.000000\n",
       "max    24946.000000   3.381064e+07        488.000000"
      ]
     },
     "execution_count": 7,
     "metadata": {},
     "output_type": "execute_result"
    }
   ],
   "source": [
    "systematic_teams.describe()"
   ]
  },
  {
   "cell_type": "markdown",
   "metadata": {},
   "source": [
    "## Nivell 2 \n",
    "### Exercici 2 \n",
    "#### mostra estratificada"
   ]
  },
  {
   "cell_type": "code",
   "execution_count": 8,
   "metadata": {},
   "outputs": [
    {
     "data": {
      "text/plain": [
       "Multiplayer Online Battle Arena    348\n",
       "Battle Royale                      200\n",
       "First-Person Shooter               200\n",
       "Strategy                           100\n",
       "Collectible Card Game               80\n",
       "Name: Genre, dtype: int64"
      ]
     },
     "execution_count": 8,
     "metadata": {},
     "output_type": "execute_result"
    }
   ],
   "source": [
    "df['Genre'].value_counts()\n"
   ]
  },
  {
   "cell_type": "code",
   "execution_count": 9,
   "metadata": {},
   "outputs": [
    {
     "data": {
      "text/plain": [
       "count                                 928\n",
       "unique                                  5\n",
       "top       Multiplayer Online Battle Arena\n",
       "freq                                  348\n",
       "Name: Genre, dtype: object"
      ]
     },
     "execution_count": 9,
     "metadata": {},
     "output_type": "execute_result"
    }
   ],
   "source": [
    "df['Genre'].describe()"
   ]
  },
  {
   "cell_type": "code",
   "execution_count": 10,
   "metadata": {},
   "outputs": [
    {
     "data": {
      "text/html": [
       "<div>\n",
       "<style scoped>\n",
       "    .dataframe tbody tr th:only-of-type {\n",
       "        vertical-align: middle;\n",
       "    }\n",
       "\n",
       "    .dataframe tbody tr th {\n",
       "        vertical-align: top;\n",
       "    }\n",
       "\n",
       "    .dataframe thead th {\n",
       "        text-align: right;\n",
       "    }\n",
       "</style>\n",
       "<table border=\"1\" class=\"dataframe\">\n",
       "  <thead>\n",
       "    <tr style=\"text-align: right;\">\n",
       "      <th></th>\n",
       "      <th>TeamId</th>\n",
       "      <th>TeamName</th>\n",
       "      <th>TotalUSDPrize</th>\n",
       "      <th>TotalTournaments</th>\n",
       "      <th>Game</th>\n",
       "      <th>Genre</th>\n",
       "    </tr>\n",
       "  </thead>\n",
       "  <tbody>\n",
       "    <tr>\n",
       "      <th>40</th>\n",
       "      <td>612</td>\n",
       "      <td>Team Skadis Gift</td>\n",
       "      <td>80797.99</td>\n",
       "      <td>10</td>\n",
       "      <td>Overwatch</td>\n",
       "      <td>First-Person Shooter</td>\n",
       "    </tr>\n",
       "    <tr>\n",
       "      <th>926</th>\n",
       "      <td>608</td>\n",
       "      <td>British National Team</td>\n",
       "      <td>2500.00</td>\n",
       "      <td>1</td>\n",
       "      <td>Arena of Valor</td>\n",
       "      <td>Multiplayer Online Battle Arena</td>\n",
       "    </tr>\n",
       "    <tr>\n",
       "      <th>88</th>\n",
       "      <td>318</td>\n",
       "      <td>Snake Esports</td>\n",
       "      <td>27410.98</td>\n",
       "      <td>9</td>\n",
       "      <td>Overwatch</td>\n",
       "      <td>First-Person Shooter</td>\n",
       "    </tr>\n",
       "    <tr>\n",
       "      <th>513</th>\n",
       "      <td>383</td>\n",
       "      <td>Chaos Esports Club</td>\n",
       "      <td>4588813.00</td>\n",
       "      <td>28</td>\n",
       "      <td>Dota 2</td>\n",
       "      <td>Multiplayer Online Battle Arena</td>\n",
       "    </tr>\n",
       "    <tr>\n",
       "      <th>2</th>\n",
       "      <td>768</td>\n",
       "      <td>New York Excelsior</td>\n",
       "      <td>1572618.50</td>\n",
       "      <td>18</td>\n",
       "      <td>Overwatch</td>\n",
       "      <td>First-Person Shooter</td>\n",
       "    </tr>\n",
       "    <tr>\n",
       "      <th>...</th>\n",
       "      <td>...</td>\n",
       "      <td>...</td>\n",
       "      <td>...</td>\n",
       "      <td>...</td>\n",
       "      <td>...</td>\n",
       "      <td>...</td>\n",
       "    </tr>\n",
       "    <tr>\n",
       "      <th>424</th>\n",
       "      <td>658</td>\n",
       "      <td>BIG</td>\n",
       "      <td>1003931.45</td>\n",
       "      <td>90</td>\n",
       "      <td>Counter-Strike: Global Offensive</td>\n",
       "      <td>First-Person Shooter</td>\n",
       "    </tr>\n",
       "    <tr>\n",
       "      <th>802</th>\n",
       "      <td>118</td>\n",
       "      <td>Fnatic</td>\n",
       "      <td>931148.76</td>\n",
       "      <td>39</td>\n",
       "      <td>Hearthstone</td>\n",
       "      <td>Collectible Card Game</td>\n",
       "    </tr>\n",
       "    <tr>\n",
       "      <th>925</th>\n",
       "      <td>713</td>\n",
       "      <td>Marines Esports</td>\n",
       "      <td>3429.60</td>\n",
       "      <td>1</td>\n",
       "      <td>Arena of Valor</td>\n",
       "      <td>Multiplayer Online Battle Arena</td>\n",
       "    </tr>\n",
       "    <tr>\n",
       "      <th>887</th>\n",
       "      <td>24946</td>\n",
       "      <td>Bazaar Gaming</td>\n",
       "      <td>300325.26</td>\n",
       "      <td>7</td>\n",
       "      <td>Arena of Valor</td>\n",
       "      <td>Multiplayer Online Battle Arena</td>\n",
       "    </tr>\n",
       "    <tr>\n",
       "      <th>281</th>\n",
       "      <td>197</td>\n",
       "      <td>Copenhagen Wolves</td>\n",
       "      <td>150220.76</td>\n",
       "      <td>29</td>\n",
       "      <td>League of Legends</td>\n",
       "      <td>Multiplayer Online Battle Arena</td>\n",
       "    </tr>\n",
       "  </tbody>\n",
       "</table>\n",
       "<p>742 rows × 6 columns</p>\n",
       "</div>"
      ],
      "text/plain": [
       "     TeamId               TeamName  TotalUSDPrize  TotalTournaments  \\\n",
       "40      612       Team Skadis Gift       80797.99                10   \n",
       "926     608  British National Team        2500.00                 1   \n",
       "88      318          Snake Esports       27410.98                 9   \n",
       "513     383     Chaos Esports Club     4588813.00                28   \n",
       "2       768     New York Excelsior     1572618.50                18   \n",
       "..      ...                    ...            ...               ...   \n",
       "424     658                    BIG     1003931.45                90   \n",
       "802     118                 Fnatic      931148.76                39   \n",
       "925     713        Marines Esports        3429.60                 1   \n",
       "887   24946          Bazaar Gaming      300325.26                 7   \n",
       "281     197      Copenhagen Wolves      150220.76                29   \n",
       "\n",
       "                                 Game                            Genre  \n",
       "40                          Overwatch             First-Person Shooter  \n",
       "926                    Arena of Valor  Multiplayer Online Battle Arena  \n",
       "88                          Overwatch             First-Person Shooter  \n",
       "513                            Dota 2  Multiplayer Online Battle Arena  \n",
       "2                           Overwatch             First-Person Shooter  \n",
       "..                                ...                              ...  \n",
       "424  Counter-Strike: Global Offensive             First-Person Shooter  \n",
       "802                       Hearthstone            Collectible Card Game  \n",
       "925                    Arena of Valor  Multiplayer Online Battle Arena  \n",
       "887                    Arena of Valor  Multiplayer Online Battle Arena  \n",
       "281                 League of Legends  Multiplayer Online Battle Arena  \n",
       "\n",
       "[742 rows x 6 columns]"
      ]
     },
     "execution_count": 10,
     "metadata": {},
     "output_type": "execute_result"
    }
   ],
   "source": [
    "from sklearn.model_selection import train_test_split\n",
    "stratified_sample, _ = train_test_split(df, test_size=0.20, stratify=df[['Genre']])\n",
    "stratified_sample\n"
   ]
  },
  {
   "cell_type": "code",
   "execution_count": 11,
   "metadata": {},
   "outputs": [
    {
     "data": {
      "text/plain": [
       "array(['First-Person Shooter', 'Multiplayer Online Battle Arena',\n",
       "       'Collectible Card Game', 'Battle Royale', 'Strategy'], dtype=object)"
      ]
     },
     "execution_count": 11,
     "metadata": {},
     "output_type": "execute_result"
    }
   ],
   "source": [
    "stratified_sample['Genre'].unique()\n",
    "\n"
   ]
  },
  {
   "cell_type": "code",
   "execution_count": 12,
   "metadata": {},
   "outputs": [
    {
     "data": {
      "text/plain": [
       "count                                 742\n",
       "unique                                  5\n",
       "top       Multiplayer Online Battle Arena\n",
       "freq                                  278\n",
       "Name: Genre, dtype: object"
      ]
     },
     "execution_count": 12,
     "metadata": {},
     "output_type": "execute_result"
    }
   ],
   "source": [
    "stratified_sample['Genre'].describe()"
   ]
  },
  {
   "cell_type": "markdown",
   "metadata": {},
   "source": [
    "#### SMOTE (Synthetic Minority Oversampling Technique).\n",
    "\n"
   ]
  },
  {
   "cell_type": "code",
   "execution_count": 13,
   "metadata": {},
   "outputs": [],
   "source": [
    "import imblearn"
   ]
  },
  {
   "cell_type": "code",
   "execution_count": 14,
   "metadata": {},
   "outputs": [],
   "source": [
    "from imblearn.over_sampling import SMOTE"
   ]
  },
  {
   "cell_type": "code",
   "execution_count": 15,
   "metadata": {},
   "outputs": [
    {
     "data": {
      "text/plain": [
       "Counter-Strike: Global Offensive    100\n",
       "Overwatch                           100\n",
       "Starcraft II                        100\n",
       "PUBG                                100\n",
       "Fortnite                            100\n",
       "Dota 2                              100\n",
       "League of Legends                   100\n",
       "Heroes of the Storm                 100\n",
       "Hearthstone                          80\n",
       "Arena of Valor                       48\n",
       "Name: Game, dtype: int64"
      ]
     },
     "execution_count": 15,
     "metadata": {},
     "output_type": "execute_result"
    }
   ],
   "source": [
    "df['Game'].value_counts()"
   ]
  },
  {
   "cell_type": "code",
   "execution_count": 16,
   "metadata": {},
   "outputs": [],
   "source": [
    "teams_smote = df[(df['Game']=='Arena of Valor')| (df['Game']=='Overwatch')]"
   ]
  },
  {
   "cell_type": "code",
   "execution_count": 18,
   "metadata": {},
   "outputs": [],
   "source": [
    "teams_smote = teams_smote.drop(columns =['TeamName','Genre'])"
   ]
  },
  {
   "cell_type": "code",
   "execution_count": 21,
   "metadata": {},
   "outputs": [],
   "source": [
    "teams_smote['Game'] = [0 if x == 'Overwatch' else 1 for x in teams_smote['Game']]"
   ]
  },
  {
   "cell_type": "code",
   "execution_count": 28,
   "metadata": {},
   "outputs": [
    {
     "data": {
      "text/plain": [
       "0    100\n",
       "1     48\n",
       "Name: Game, dtype: int64"
      ]
     },
     "execution_count": 28,
     "metadata": {},
     "output_type": "execute_result"
    }
   ],
   "source": [
    "teams_smote['Game'].value_counts()"
   ]
  },
  {
   "cell_type": "code",
   "execution_count": 29,
   "metadata": {},
   "outputs": [
    {
     "data": {
      "text/plain": [
       "count    148.000000\n",
       "mean       0.324324\n",
       "std        0.469711\n",
       "min        0.000000\n",
       "25%        0.000000\n",
       "50%        0.000000\n",
       "75%        1.000000\n",
       "max        1.000000\n",
       "Name: Game, dtype: float64"
      ]
     },
     "execution_count": 29,
     "metadata": {},
     "output_type": "execute_result"
    }
   ],
   "source": [
    "teams_smote['Game'].describe()"
   ]
  },
  {
   "cell_type": "code",
   "execution_count": 32,
   "metadata": {},
   "outputs": [
    {
     "data": {
      "text/html": [
       "<div>\n",
       "<style scoped>\n",
       "    .dataframe tbody tr th:only-of-type {\n",
       "        vertical-align: middle;\n",
       "    }\n",
       "\n",
       "    .dataframe tbody tr th {\n",
       "        vertical-align: top;\n",
       "    }\n",
       "\n",
       "    .dataframe thead th {\n",
       "        text-align: right;\n",
       "    }\n",
       "</style>\n",
       "<table border=\"1\" class=\"dataframe\">\n",
       "  <thead>\n",
       "    <tr style=\"text-align: right;\">\n",
       "      <th></th>\n",
       "      <th>TeamId</th>\n",
       "      <th>TotalUSDPrize</th>\n",
       "      <th>TotalTournaments</th>\n",
       "      <th>Game</th>\n",
       "    </tr>\n",
       "  </thead>\n",
       "  <tbody>\n",
       "    <tr>\n",
       "      <th>0</th>\n",
       "      <td>760</td>\n",
       "      <td>3.105000e+06</td>\n",
       "      <td>7</td>\n",
       "      <td>0</td>\n",
       "    </tr>\n",
       "    <tr>\n",
       "      <th>1</th>\n",
       "      <td>776</td>\n",
       "      <td>1.591136e+06</td>\n",
       "      <td>13</td>\n",
       "      <td>0</td>\n",
       "    </tr>\n",
       "    <tr>\n",
       "      <th>2</th>\n",
       "      <td>768</td>\n",
       "      <td>1.572618e+06</td>\n",
       "      <td>18</td>\n",
       "      <td>0</td>\n",
       "    </tr>\n",
       "    <tr>\n",
       "      <th>3</th>\n",
       "      <td>773</td>\n",
       "      <td>1.186278e+06</td>\n",
       "      <td>15</td>\n",
       "      <td>0</td>\n",
       "    </tr>\n",
       "    <tr>\n",
       "      <th>4</th>\n",
       "      <td>766</td>\n",
       "      <td>1.130000e+06</td>\n",
       "      <td>6</td>\n",
       "      <td>0</td>\n",
       "    </tr>\n",
       "    <tr>\n",
       "      <th>...</th>\n",
       "      <td>...</td>\n",
       "      <td>...</td>\n",
       "      <td>...</td>\n",
       "      <td>...</td>\n",
       "    </tr>\n",
       "    <tr>\n",
       "      <th>195</th>\n",
       "      <td>586</td>\n",
       "      <td>2.500000e+03</td>\n",
       "      <td>1</td>\n",
       "      <td>1</td>\n",
       "    </tr>\n",
       "    <tr>\n",
       "      <th>196</th>\n",
       "      <td>444</td>\n",
       "      <td>3.027809e+05</td>\n",
       "      <td>4</td>\n",
       "      <td>1</td>\n",
       "    </tr>\n",
       "    <tr>\n",
       "      <th>197</th>\n",
       "      <td>537</td>\n",
       "      <td>4.125460e+04</td>\n",
       "      <td>1</td>\n",
       "      <td>1</td>\n",
       "    </tr>\n",
       "    <tr>\n",
       "      <th>198</th>\n",
       "      <td>17653</td>\n",
       "      <td>2.290964e+05</td>\n",
       "      <td>3</td>\n",
       "      <td>1</td>\n",
       "    </tr>\n",
       "    <tr>\n",
       "      <th>199</th>\n",
       "      <td>765</td>\n",
       "      <td>1.713598e+05</td>\n",
       "      <td>3</td>\n",
       "      <td>1</td>\n",
       "    </tr>\n",
       "  </tbody>\n",
       "</table>\n",
       "<p>200 rows × 4 columns</p>\n",
       "</div>"
      ],
      "text/plain": [
       "     TeamId  TotalUSDPrize  TotalTournaments  Game\n",
       "0       760   3.105000e+06                 7     0\n",
       "1       776   1.591136e+06                13     0\n",
       "2       768   1.572618e+06                18     0\n",
       "3       773   1.186278e+06                15     0\n",
       "4       766   1.130000e+06                 6     0\n",
       "..      ...            ...               ...   ...\n",
       "195     586   2.500000e+03                 1     1\n",
       "196     444   3.027809e+05                 4     1\n",
       "197     537   4.125460e+04                 1     1\n",
       "198   17653   2.290964e+05                 3     1\n",
       "199     765   1.713598e+05                 3     1\n",
       "\n",
       "[200 rows x 4 columns]"
      ]
     },
     "execution_count": 32,
     "metadata": {},
     "output_type": "execute_result"
    }
   ],
   "source": [
    "smote = SMOTE(sampling_strategy = 'minority')\n",
    "X_sm, __ = smote.fit_resample(teams_smote, teams_smote['Game'])\n",
    "X_sm"
   ]
  },
  {
   "cell_type": "code",
   "execution_count": 33,
   "metadata": {},
   "outputs": [
    {
     "data": {
      "text/plain": [
       "1    100\n",
       "0    100\n",
       "Name: Game, dtype: int64"
      ]
     },
     "execution_count": 33,
     "metadata": {},
     "output_type": "execute_result"
    }
   ],
   "source": [
    "X_sm['Game'].value_counts()"
   ]
  },
  {
   "cell_type": "markdown",
   "metadata": {},
   "source": [
    "# Nivell 3 \n",
    "## Exercici 3\n",
    "### Genera una mostra a partir del metode Reservoir sampling"
   ]
  },
  {
   "cell_type": "code",
   "execution_count": 34,
   "metadata": {},
   "outputs": [],
   "source": [
    "import random\n",
    "\n",
    "def generator (max):\n",
    "    number = 1\n",
    "    while numer < max:\n",
    "        number +=1\n",
    "        yield number\n",
    "stream = df['TotalUSDPrize']\n",
    "k = 50\n",
    "reservior =[]\n",
    "for i, element in enumerate(stream):\n",
    "    if i+1<=k:\n",
    "        reservior.append(element)\n",
    "    else:\n",
    "        probability = k/(i+1)\n",
    "        if random.random()<probability:\n",
    "            reservior[random.choice(range(0,k))]=element\n"
   ]
  },
  {
   "cell_type": "code",
   "execution_count": 35,
   "metadata": {},
   "outputs": [
    {
     "data": {
      "text/plain": [
       "[66428.61,\n",
       " 10000.0,\n",
       " 1649386.58,\n",
       " 136050.0,\n",
       " 1558704.5,\n",
       " 192653.77,\n",
       " 542901.82,\n",
       " 32400.0,\n",
       " 1302176.88,\n",
       " 5000.0,\n",
       " 4588813.0,\n",
       " 4252048.74,\n",
       " 325502.87,\n",
       " 336892.17,\n",
       " 288606.0,\n",
       " 1349801.0,\n",
       " 138138.25,\n",
       " 195460.56,\n",
       " 42000.0,\n",
       " 87185.26,\n",
       " 31365.0,\n",
       " 1151975.0,\n",
       " 1472759.47,\n",
       " 15000.0,\n",
       " 118745.0,\n",
       " 148594.21,\n",
       " 31777.08,\n",
       " 335161.0,\n",
       " 140221.04,\n",
       " 45750.0,\n",
       " 544085.0,\n",
       " 135273.04,\n",
       " 238280.44,\n",
       " 904666.99,\n",
       " 98067.52,\n",
       " 12799.81,\n",
       " 237224.37,\n",
       " 680000.0,\n",
       " 37510.0,\n",
       " 344871.14,\n",
       " 129837.01,\n",
       " 273145.71,\n",
       " 319706.6,\n",
       " 2805813.88,\n",
       " 152173.93,\n",
       " 483601.94,\n",
       " 215250.0,\n",
       " 750.0,\n",
       " 840606.45,\n",
       " 211777.93]"
      ]
     },
     "execution_count": 35,
     "metadata": {},
     "output_type": "execute_result"
    }
   ],
   "source": [
    "reservior"
   ]
  },
  {
   "cell_type": "code",
   "execution_count": 36,
   "metadata": {},
   "outputs": [
    {
     "data": {
      "text/plain": [
       "50"
      ]
     },
     "execution_count": 36,
     "metadata": {},
     "output_type": "execute_result"
    }
   ],
   "source": [
    "len(reservior)"
   ]
  },
  {
   "cell_type": "code",
   "execution_count": 40,
   "metadata": {},
   "outputs": [
    {
     "name": "stdout",
     "output_type": "stream",
     "text": [
      "El valor minim és 750.0, el maxim 4588813.0, i la mitjana del premi és 585138.7914\n"
     ]
    }
   ],
   "source": [
    "a, b, c = min(reservior), max(reservior), sum(reservior)/len(reservior)\n",
    "print('El valor minim és {0}, el maxim {1}, i la mitjana del premi és {2}'.format(a, b, c))"
   ]
  },
  {
   "cell_type": "code",
   "execution_count": null,
   "metadata": {},
   "outputs": [],
   "source": []
  }
 ],
 "metadata": {
  "kernelspec": {
   "display_name": "Python 3",
   "language": "python",
   "name": "python3"
  },
  "language_info": {
   "codemirror_mode": {
    "name": "ipython",
    "version": 3
   },
   "file_extension": ".py",
   "mimetype": "text/x-python",
   "name": "python",
   "nbconvert_exporter": "python",
   "pygments_lexer": "ipython3",
   "version": "3.8.5"
  }
 },
 "nbformat": 4,
 "nbformat_minor": 4
}
